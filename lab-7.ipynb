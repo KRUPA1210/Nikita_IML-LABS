{
 "cells": [
  {
   "cell_type": "code",
   "execution_count": 1,
   "id": "cd464d34",
   "metadata": {
    "_cell_guid": "b1076dfc-b9ad-4769-8c92-a6c4dae69d19",
    "_uuid": "8f2839f25d086af736a60e9eeb907d3b93b6e0e5",
    "execution": {
     "iopub.execute_input": "2023-11-29T14:44:27.074154Z",
     "iopub.status.busy": "2023-11-29T14:44:27.073604Z",
     "iopub.status.idle": "2023-11-29T14:44:28.143788Z",
     "shell.execute_reply": "2023-11-29T14:44:28.142403Z"
    },
    "papermill": {
     "duration": 1.082495,
     "end_time": "2023-11-29T14:44:28.150954",
     "exception": false,
     "start_time": "2023-11-29T14:44:27.068459",
     "status": "completed"
    },
    "tags": []
   },
   "outputs": [
    {
     "name": "stdout",
     "output_type": "stream",
     "text": [
      "\n",
      " DICTIONARY :\n",
      "{'Valuess': ['Oneee', 'Twoo', 'Threee', 'Fourr'], 'Numbers': [1, 2, 3, 4]}\n",
      "\n",
      "\n",
      " DATAFRAME : \n",
      "  Valuess  Numbers\n",
      "0   Oneee        1\n",
      "1    Twoo        2\n",
      "2  Threee        3\n",
      "3   Fourr        4\n",
      "\n"
     ]
    }
   ],
   "source": [
    "#Name: Nikita Parmar\n",
    "#Enrollment No:216270307099\n",
    "\n",
    "'''7.1->to create a dataframe from a dictionary and display it'''\n",
    "import pandas as pd\n",
    "\n",
    "# creating dictionary \n",
    "data = {'Valuess': ['Oneee', 'Twoo', 'Threee', 'Fourr'], \n",
    "        'Numbers': [1,2,3,4]}\n",
    "# converting dictionary data into pandas Dataframe d\n",
    "d = pd.DataFrame(data)\n",
    "\n",
    "# printing dictionary \n",
    "print()\n",
    "print(\" DICTIONARY :\")\n",
    "print(data)\n",
    "print()\n",
    "\n",
    "# printing DataFrame\n",
    "print()\n",
    "print(\" DATAFRAME : \")\n",
    "print(d)\n",
    "print()"
   ]
  },
  {
   "cell_type": "code",
   "execution_count": 2,
   "id": "53b7fc84",
   "metadata": {
    "execution": {
     "iopub.execute_input": "2023-11-29T14:44:28.164621Z",
     "iopub.status.busy": "2023-11-29T14:44:28.163952Z",
     "iopub.status.idle": "2023-11-29T14:44:28.182535Z",
     "shell.execute_reply": "2023-11-29T14:44:28.180940Z"
    },
    "papermill": {
     "duration": 0.026305,
     "end_time": "2023-11-29T14:44:28.185671",
     "exception": false,
     "start_time": "2023-11-29T14:44:28.159366",
     "status": "completed"
    },
    "tags": []
   },
   "outputs": [
    {
     "name": "stdout",
     "output_type": "stream",
     "text": [
      "\n",
      " BEFORE SORTING DATAFRAME : \n",
      "\n",
      "   Age Name\n",
      "0   12    A\n",
      "1   24    B\n",
      "2   25    C\n",
      "3   56    D\n",
      "\n",
      " AFTER SORTING DATAFRAME : \n",
      "\n",
      "   Age Name\n",
      "0   12    A\n",
      "1   24    B\n",
      "2   25    C\n",
      "3   56    D\n"
     ]
    }
   ],
   "source": [
    "'''7.2->to sort the DataFrame first by 'name' in ascending order'''\n",
    "import pandas as pd\n",
    "\n",
    "# creating dictionary \n",
    "data = {'Age': [12,24,25,56], \n",
    "        'Name': ['A','B','C','D']}\n",
    "# converting dictionary data into pandas Dataframe d\n",
    "d = pd.DataFrame(data)\n",
    "\n",
    "# printing Dataframe\n",
    "print()\n",
    "print(\" BEFORE SORTING DATAFRAME : \")\n",
    "print()\n",
    "print(d)\n",
    "\n",
    "# now , sorting dataframe first by name \n",
    "print()\n",
    "print(\" AFTER SORTING DATAFRAME : \")\n",
    "print()\n",
    "print(d.sort_values(by=['Name'],ascending=True))"
   ]
  },
  {
   "cell_type": "code",
   "execution_count": 3,
   "id": "ce5c1abe",
   "metadata": {
    "execution": {
     "iopub.execute_input": "2023-11-29T14:44:28.196440Z",
     "iopub.status.busy": "2023-11-29T14:44:28.195814Z",
     "iopub.status.idle": "2023-11-29T14:44:28.214422Z",
     "shell.execute_reply": "2023-11-29T14:44:28.213269Z"
    },
    "papermill": {
     "duration": 0.026259,
     "end_time": "2023-11-29T14:44:28.216994",
     "exception": false,
     "start_time": "2023-11-29T14:44:28.190735",
     "status": "completed"
    },
    "tags": []
   },
   "outputs": [
    {
     "name": "stdout",
     "output_type": "stream",
     "text": [
      "\n",
      " DATAFRAME BEOFRE DELETEING PERCENTAGE COLUMN : \n",
      "\n",
      "   Number Values percentage\n",
      "0      12      A        35%\n",
      "1      24      B        78%\n",
      "2      25      C        67%\n",
      "3      56      D        89%\n",
      "\n",
      " DATAFRAME AFTER DELETEING PERCENTAGE COLUMN : \n",
      "\n",
      "   Number Values\n",
      "0      12      A\n",
      "1      24      B\n",
      "2      25      C\n",
      "3      56      D\n"
     ]
    }
   ],
   "source": [
    "'''7.3-> to delete the one specific column from the DataFrame'''\n",
    "\n",
    "import pandas as pd\n",
    "\n",
    "# creating DataFrame\n",
    "data = {'Number': [12,24,25,56],\n",
    "        'Values': ['A','B','C','D'],\n",
    "        'percentage': ['35%','78%','67%','89%']}\n",
    "\n",
    "d = pd.DataFrame(data)\n",
    "\n",
    "# printing DataFrame\n",
    "print()\n",
    "print(\" DATAFRAME BEOFRE DELETEING PERCENTAGE COLUMN : \")\n",
    "print()\n",
    "print(d)\n",
    "\n",
    "# deleting percentage column from DataFrame d\n",
    "d.__delitem__('percentage') \n",
    "\n",
    "# again printing DataFrame After deleting one column \n",
    "print()\n",
    "print(\" DATAFRAME AFTER DELETEING PERCENTAGE COLUMN : \")\n",
    "print()\n",
    "print(d)"
   ]
  },
  {
   "cell_type": "code",
   "execution_count": 4,
   "id": "887e565a",
   "metadata": {
    "execution": {
     "iopub.execute_input": "2023-11-29T14:44:28.225413Z",
     "iopub.status.busy": "2023-11-29T14:44:28.224762Z",
     "iopub.status.idle": "2023-11-29T14:44:28.242103Z",
     "shell.execute_reply": "2023-11-29T14:44:28.240446Z"
    },
    "papermill": {
     "duration": 0.024836,
     "end_time": "2023-11-29T14:44:28.244972",
     "exception": false,
     "start_time": "2023-11-29T14:44:28.220136",
     "status": "completed"
    },
    "tags": []
   },
   "outputs": [
    {
     "name": "stdout",
     "output_type": "stream",
     "text": [
      "\n",
      "DATAFRAME\n",
      "\n",
      "      Name  Age         City\n",
      "0    Alice   25     New York\n",
      "1      Bob   30  Los Angeles\n",
      "2  Charlie   35      Chicago\n",
      "\n",
      "DataFrame has been saved to C:\\SEM-5\\Introduction to Machine Learning\\p7_4_csv.xlsx with tab separator.\n"
     ]
    }
   ],
   "source": [
    "'''7.4->to write a DataFrame to CSV file using tab separator'''\n",
    "import pandas as pd\n",
    "\n",
    "# creating DataFrame\n",
    "data = {'Name': ['Alice', 'Bob', 'Charlie'],\n",
    "        'Age': [25, 30, 35],\n",
    "        'City': ['New York', 'Los Angeles', 'Chicago']}\n",
    "d = pd.DataFrame(data)\n",
    "\n",
    "# printing Dataframe\n",
    "print()\n",
    "print(\"DATAFRAME\")\n",
    "print()\n",
    "print(d)\n",
    "\n",
    "# Specifing the file path where i want to save the CSV file\n",
    "file_path = 'C:\\SEM-5\\Introduction to Machine Learning\\p7_4_csv.xlsx'\n",
    "\n",
    "# Writing the DataFrame to a CSV file with tab separator\n",
    "d.to_csv(file_path, sep='\\t', index=False)\n",
    "print()\n",
    "print(f'DataFrame has been saved to {file_path} with tab separator.')"
   ]
  }
 ],
 "metadata": {
  "kaggle": {
   "accelerator": "none",
   "dataSources": [
    {
     "sourceId": 151095474,
     "sourceType": "kernelVersion"
    }
   ],
   "dockerImageVersionId": 30558,
   "isGpuEnabled": false,
   "isInternetEnabled": false,
   "language": "python",
   "sourceType": "notebook"
  },
  "kernelspec": {
   "display_name": "Python 3",
   "language": "python",
   "name": "python3"
  },
  "language_info": {
   "codemirror_mode": {
    "name": "ipython",
    "version": 3
   },
   "file_extension": ".py",
   "mimetype": "text/x-python",
   "name": "python",
   "nbconvert_exporter": "python",
   "pygments_lexer": "ipython3",
   "version": "3.10.12"
  },
  "papermill": {
   "default_parameters": {},
   "duration": 6.378254,
   "end_time": "2023-11-29T14:44:28.770098",
   "environment_variables": {},
   "exception": null,
   "input_path": "__notebook__.ipynb",
   "output_path": "__notebook__.ipynb",
   "parameters": {},
   "start_time": "2023-11-29T14:44:22.391844",
   "version": "2.4.0"
  }
 },
 "nbformat": 4,
 "nbformat_minor": 5
}
