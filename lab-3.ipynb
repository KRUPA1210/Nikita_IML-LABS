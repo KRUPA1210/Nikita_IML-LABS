{
 "cells": [
  {
   "cell_type": "code",
   "execution_count": 1,
   "id": "71779709",
   "metadata": {
    "_cell_guid": "b1076dfc-b9ad-4769-8c92-a6c4dae69d19",
    "_uuid": "8f2839f25d086af736a60e9eeb907d3b93b6e0e5",
    "execution": {
     "iopub.execute_input": "2023-11-29T14:40:46.296165Z",
     "iopub.status.busy": "2023-11-29T14:40:46.295555Z",
     "iopub.status.idle": "2023-11-29T14:40:46.320633Z",
     "shell.execute_reply": "2023-11-29T14:40:46.319655Z"
    },
    "papermill": {
     "duration": 0.034265,
     "end_time": "2023-11-29T14:40:46.324744",
     "exception": false,
     "start_time": "2023-11-29T14:40:46.290479",
     "status": "completed"
    },
    "tags": []
   },
   "outputs": [
    {
     "name": "stdout",
     "output_type": "stream",
     "text": [
      "Array with 2 elements:  [1 2]\n",
      "Array with 4 elements:  [3 4 5 6]\n",
      "Array with 8 elements:  [ 7  8  9 10 11 12 13 14]\n"
     ]
    }
   ],
   "source": [
    "#Name: Nikita Parmar\n",
    "#Enrollment No:216270307099\n",
    "\n",
    "'''3.1->to split an array of 14 elements into 3 arrays, each with 2, 4, and 8 \n",
    "elements in the original order'''\n",
    "\n",
    "import numpy as np\n",
    "arr = np.array([1, 2, 3, 4, 5, 6, 7, 8, 9, 10, 11, 12, 13, 14])\n",
    "# Splitting the array into 3 arrays, each with 2, 4, and 8 elements\n",
    "arr1 = arr[:2]\n",
    "arr2 = arr[2:6]\n",
    "arr3 = arr[6:]\n",
    "print(\"Array with 2 elements: \",arr1)\n",
    "print(\"Array with 4 elements: \",arr2)\n",
    "print(\"Array with 8 elements: \",arr3)\n"
   ]
  },
  {
   "cell_type": "code",
   "execution_count": 2,
   "id": "e79c15eb",
   "metadata": {
    "execution": {
     "iopub.execute_input": "2023-11-29T14:40:46.337462Z",
     "iopub.status.busy": "2023-11-29T14:40:46.337042Z",
     "iopub.status.idle": "2023-11-29T14:40:46.345212Z",
     "shell.execute_reply": "2023-11-29T14:40:46.343685Z"
    },
    "papermill": {
     "duration": 0.020393,
     "end_time": "2023-11-29T14:40:46.348775",
     "exception": false,
     "start_time": "2023-11-29T14:40:46.328382",
     "status": "completed"
    },
    "tags": []
   },
   "outputs": [
    {
     "name": "stdout",
     "output_type": "stream",
     "text": [
      "VERTICAL ARRAY:  [0 1 2 3 4 5 6 7 8 9]\n",
      "HORIZONTAL ARRAY\n",
      "[[0]\n",
      " [1]\n",
      " [2]\n",
      " [3]\n",
      " [4]\n",
      " [5]\n",
      " [6]\n",
      " [7]\n",
      " [8]\n",
      " [9]]\n"
     ]
    }
   ],
   "source": [
    "'''3.2->to stack arrays horizontally (column wise)'''\n",
    "\n",
    "import numpy as np\n",
    "arr = np.arange(10)\n",
    "print(\"VERTICAL ARRAY: \", arr)\n",
    "horizontal_arr = arr.reshape(-1,1)\n",
    "print(\"HORIZONTAL ARRAY\")\n",
    "print(horizontal_arr)"
   ]
  }
 ],
 "metadata": {
  "kaggle": {
   "accelerator": "none",
   "dataSources": [],
   "dockerImageVersionId": 30558,
   "isGpuEnabled": false,
   "isInternetEnabled": false,
   "language": "python",
   "sourceType": "notebook"
  },
  "kernelspec": {
   "display_name": "Python 3",
   "language": "python",
   "name": "python3"
  },
  "language_info": {
   "codemirror_mode": {
    "name": "ipython",
    "version": 3
   },
   "file_extension": ".py",
   "mimetype": "text/x-python",
   "name": "python",
   "nbconvert_exporter": "python",
   "pygments_lexer": "ipython3",
   "version": "3.10.12"
  },
  "papermill": {
   "default_parameters": {},
   "duration": 5.357808,
   "end_time": "2023-11-29T14:40:46.774523",
   "environment_variables": {},
   "exception": null,
   "input_path": "__notebook__.ipynb",
   "output_path": "__notebook__.ipynb",
   "parameters": {},
   "start_time": "2023-11-29T14:40:41.416715",
   "version": "2.4.0"
  }
 },
 "nbformat": 4,
 "nbformat_minor": 5
}
