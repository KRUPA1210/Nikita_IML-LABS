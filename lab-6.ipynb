{
 "cells": [
  {
   "cell_type": "code",
   "execution_count": 1,
   "id": "d1b49d57",
   "metadata": {
    "execution": {
     "iopub.execute_input": "2023-11-29T14:43:15.835639Z",
     "iopub.status.busy": "2023-11-29T14:43:15.834212Z",
     "iopub.status.idle": "2023-11-29T14:43:16.923741Z",
     "shell.execute_reply": "2023-11-29T14:43:16.922384Z"
    },
    "papermill": {
     "duration": 1.098413,
     "end_time": "2023-11-29T14:43:16.926809",
     "exception": false,
     "start_time": "2023-11-29T14:43:15.828396",
     "status": "completed"
    },
    "tags": []
   },
   "outputs": [
    {
     "name": "stdout",
     "output_type": "stream",
     "text": [
      "a    23\n",
      "b    45\n",
      "c    56\n",
      "d    67\n",
      "e    12\n",
      "dtype: int64\n"
     ]
    }
   ],
   "source": [
    "#Name: Nikita Parmar\n",
    "#Enrollment No:216270307099\n",
    "\n",
    "'''6.1->convert a NumPy array to a Pandas series'''\n",
    "\n",
    "import pandas as pd\n",
    "a=pd.Series([23,45,56,67,12],index=['a','b','c','d','e']);\n",
    "print(a);\n"
   ]
  },
  {
   "cell_type": "code",
   "execution_count": 2,
   "id": "5b2a9f1e",
   "metadata": {
    "execution": {
     "iopub.execute_input": "2023-11-29T14:43:16.938248Z",
     "iopub.status.busy": "2023-11-29T14:43:16.937580Z",
     "iopub.status.idle": "2023-11-29T14:43:16.961539Z",
     "shell.execute_reply": "2023-11-29T14:43:16.959739Z"
    },
    "papermill": {
     "duration": 0.031795,
     "end_time": "2023-11-29T14:43:16.964626",
     "exception": false,
     "start_time": "2023-11-29T14:43:16.932831",
     "status": "completed"
    },
    "tags": []
   },
   "outputs": [
    {
     "name": "stdout",
     "output_type": "stream",
     "text": [
      "Original DataFrame\n",
      "   col1  col2  col3\n",
      "0     1     4     7\n",
      "1     2     5     5\n",
      "2     3     6     8\n",
      "3     4     9    12\n",
      "4     7     5     1\n",
      "5    11     0    11\n",
      "\n",
      "1st column as a Series:\n",
      "0     1\n",
      "1     2\n",
      "2     3\n",
      "3     4\n",
      "4     7\n",
      "5    11\n",
      "Name: col1, dtype: int64\n"
     ]
    }
   ],
   "source": [
    "'''6.2->to convert the first column of a DataFrame as a Series'''\n",
    "\n",
    "import pandas as pd\n",
    "#Creating the dictionary\n",
    "d = {'col1': [1, 2, 3, 4, 7, 11], 'col2': [4, 5, 6, 9, 5, 0], 'col3': [7, 5, 8, 12, 1,11]}\n",
    "\n",
    "#Creating Dataframe\n",
    "df = pd.DataFrame(d)\n",
    "\n",
    "#Printing the Original Dataframe\n",
    "print(\"Original DataFrame\")\n",
    "print(df)\n",
    "\n",
    "#Converting the first column to series\n",
    "s1 = df.iloc[:,0]\n",
    "\n",
    "#Printing the New Dataframe\n",
    "print(\"\\n1st column as a Series:\")\n",
    "print(s1)\n"
   ]
  },
  {
   "cell_type": "code",
   "execution_count": 3,
   "id": "b9ef3a00",
   "metadata": {
    "_cell_guid": "b1076dfc-b9ad-4769-8c92-a6c4dae69d19",
    "_uuid": "8f2839f25d086af736a60e9eeb907d3b93b6e0e5",
    "execution": {
     "iopub.execute_input": "2023-11-29T14:43:16.973347Z",
     "iopub.status.busy": "2023-11-29T14:43:16.972809Z",
     "iopub.status.idle": "2023-11-29T14:43:16.984895Z",
     "shell.execute_reply": "2023-11-29T14:43:16.983511Z"
    },
    "papermill": {
     "duration": 0.020384,
     "end_time": "2023-11-29T14:43:16.988473",
     "exception": false,
     "start_time": "2023-11-29T14:43:16.968089",
     "status": "completed"
    },
    "tags": []
   },
   "outputs": [
    {
     "name": "stdout",
     "output_type": "stream",
     "text": [
      "Mean: 3.0\n",
      "Standard Deviation: 1.5811388300841898\n"
     ]
    }
   ],
   "source": [
    "'''6.3->to create the mean and standard deviation of the data of a given \n",
    "Series'''\n",
    "\n",
    "import pandas as pd\n",
    "# Creating a sample Series\n",
    "data = [1, 2, 3, 4, 5]\n",
    "series = pd.Series(data)\n",
    "\n",
    "# Calculating the mean\n",
    "mean = series.mean()\n",
    "\n",
    "# Calculating the standard deviation\n",
    "std_deviation = series.std()\n",
    "\n",
    "print(\"Mean:\", mean)\n",
    "print(\"Standard Deviation:\", std_deviation)"
   ]
  },
  {
   "cell_type": "code",
   "execution_count": 4,
   "id": "a1e73918",
   "metadata": {
    "execution": {
     "iopub.execute_input": "2023-11-29T14:43:16.998306Z",
     "iopub.status.busy": "2023-11-29T14:43:16.996660Z",
     "iopub.status.idle": "2023-11-29T14:43:17.018701Z",
     "shell.execute_reply": "2023-11-29T14:43:17.015897Z"
    },
    "papermill": {
     "duration": 0.032316,
     "end_time": "2023-11-29T14:43:17.024250",
     "exception": false,
     "start_time": "2023-11-29T14:43:16.991934",
     "status": "completed"
    },
    "tags": []
   },
   "outputs": [
    {
     "name": "stdout",
     "output_type": "stream",
     "text": [
      "Sorted Series (Ascending):\n",
      "1    1\n",
      "2    2\n",
      "0    3\n",
      "4    4\n",
      "3    5\n",
      "dtype: int64\n",
      "\n",
      "Sorted Series (Descending):\n",
      "3    5\n",
      "4    4\n",
      "0    3\n",
      "2    2\n",
      "1    1\n",
      "dtype: int64\n"
     ]
    }
   ],
   "source": [
    "'''6.4->to sort a given Series'''\n",
    "\n",
    "import pandas as pd\n",
    "\n",
    "# Creating a sample Series\n",
    "data = {'A': [3, 1, 2, 5, 4]}\n",
    "series = pd.Series(data['A'])\n",
    "\n",
    "# Sorting the Series in ascending order\n",
    "sorted_series = series.sort_values()\n",
    "print(\"Sorted Series (Ascending):\")\n",
    "print(sorted_series)\n",
    "\n",
    "# Sorting the Series in descending order\n",
    "sorted_series_desc = series.sort_values(ascending=False)\n",
    "print(\"\\nSorted Series (Descending):\")\n",
    "print(sorted_series_desc)"
   ]
  }
 ],
 "metadata": {
  "kaggle": {
   "accelerator": "none",
   "dataSources": [],
   "dockerImageVersionId": 30558,
   "isGpuEnabled": false,
   "isInternetEnabled": false,
   "language": "python",
   "sourceType": "notebook"
  },
  "kernelspec": {
   "display_name": "Python 3",
   "language": "python",
   "name": "python3"
  },
  "language_info": {
   "codemirror_mode": {
    "name": "ipython",
    "version": 3
   },
   "file_extension": ".py",
   "mimetype": "text/x-python",
   "name": "python",
   "nbconvert_exporter": "python",
   "pygments_lexer": "ipython3",
   "version": "3.10.12"
  },
  "papermill": {
   "default_parameters": {},
   "duration": 6.811561,
   "end_time": "2023-11-29T14:43:17.762991",
   "environment_variables": {},
   "exception": null,
   "input_path": "__notebook__.ipynb",
   "output_path": "__notebook__.ipynb",
   "parameters": {},
   "start_time": "2023-11-29T14:43:10.951430",
   "version": "2.4.0"
  }
 },
 "nbformat": 4,
 "nbformat_minor": 5
}
