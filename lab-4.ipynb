{
 "cells": [
  {
   "cell_type": "code",
   "execution_count": 1,
   "id": "2a57a487",
   "metadata": {
    "_cell_guid": "b1076dfc-b9ad-4769-8c92-a6c4dae69d19",
    "_uuid": "8f2839f25d086af736a60e9eeb907d3b93b6e0e5",
    "execution": {
     "iopub.execute_input": "2023-11-29T14:41:50.307944Z",
     "iopub.status.busy": "2023-11-29T14:41:50.307589Z",
     "iopub.status.idle": "2023-11-29T14:41:50.324538Z",
     "shell.execute_reply": "2023-11-29T14:41:50.322788Z"
    },
    "papermill": {
     "duration": 0.022895,
     "end_time": "2023-11-29T14:41:50.326662",
     "exception": false,
     "start_time": "2023-11-29T14:41:50.303767",
     "status": "completed"
    },
    "tags": []
   },
   "outputs": [
    {
     "name": "stdout",
     "output_type": "stream",
     "text": [
      "[11 13 15]  +  [2 4 6] =  [13 17 21]\n",
      "[11 13 15]  -  [2 4 6] =  [9 9 9]\n",
      "[11 13 15]  x  [2 4 6] =  [22 52 90]\n",
      "[11 13 15]  %  [2 4 6] =  [5.5  3.25 2.5 ]\n"
     ]
    }
   ],
   "source": [
    "#Name: Nikita Parmar\n",
    "#Enrollment No:216270307099\n",
    "\n",
    "'''4.1->to add, subtract, multiply, divide arguments element-wise '''\n",
    "import numpy as np\n",
    "# Adding, Subtracting, Multiplying and Dividing Arrays element-wise\n",
    "# Defining arrays:\n",
    "Arr1 = np.array([11,13,15])\n",
    "Arr2 = np.array([2,4,6])\n",
    "print(Arr1 , \" + \" , Arr2 ,\"= \" ,np.add(Arr1,Arr2))\n",
    "print(Arr1 , \" - \", Arr2, \"= \" , np.subtract(Arr1,Arr2))\n",
    "print(Arr1 , \" x \", Arr2, \"= \" ,np.multiply(Arr1,Arr2))\n",
    "print(Arr1 , \" % \", Arr2, \"= \" ,np.divide(Arr1,Arr2))\n"
   ]
  },
  {
   "cell_type": "code",
   "execution_count": 2,
   "id": "f2f10a11",
   "metadata": {
    "execution": {
     "iopub.execute_input": "2023-11-29T14:41:50.333883Z",
     "iopub.status.busy": "2023-11-29T14:41:50.333568Z",
     "iopub.status.idle": "2023-11-29T14:41:50.338854Z",
     "shell.execute_reply": "2023-11-29T14:41:50.338023Z"
    },
    "papermill": {
     "duration": 0.010106,
     "end_time": "2023-11-29T14:41:50.340631",
     "exception": false,
     "start_time": "2023-11-29T14:41:50.330525",
     "status": "completed"
    },
    "tags": []
   },
   "outputs": [
    {
     "name": "stdout",
     "output_type": "stream",
     "text": [
      "Rounding off elements of Array [ 1.6  5.5 10.4] :  [ 2.  6. 10.]\n"
     ]
    }
   ],
   "source": [
    "'''4.2->to round elements of the array to the nearest integer'''\n",
    "\n",
    "# Rounding elements to nearest integers\n",
    "Arr3 = np.array([1.6,5.5,10.4])\n",
    "print(\"Rounding off elements of Array\", Arr3 , \": \" ,np.round(Arr3))"
   ]
  },
  {
   "cell_type": "code",
   "execution_count": 3,
   "id": "033bc21a",
   "metadata": {
    "execution": {
     "iopub.execute_input": "2023-11-29T14:41:50.346029Z",
     "iopub.status.busy": "2023-11-29T14:41:50.345690Z",
     "iopub.status.idle": "2023-11-29T14:41:50.352083Z",
     "shell.execute_reply": "2023-11-29T14:41:50.350863Z"
    },
    "papermill": {
     "duration": 0.011424,
     "end_time": "2023-11-29T14:41:50.354048",
     "exception": false,
     "start_time": "2023-11-29T14:41:50.342624",
     "status": "completed"
    },
    "tags": []
   },
   "outputs": [
    {
     "name": "stdout",
     "output_type": "stream",
     "text": [
      "[[100 200 300]\n",
      " [400 500 600]]\n",
      "\n",
      "Columnwise Mean:  [250. 350. 450.]\n",
      "Rowwise Mean:  [200. 500.]\n"
     ]
    }
   ],
   "source": [
    "'''4.3->to calculate mean across dimension, in a 2D numpy array'''\n",
    "\n",
    "# Calculating mean columnwise and rowwise\n",
    "Arr4 = np.array([[100,200,300],[400,500,600]])\n",
    "print(Arr4)\n",
    "print(\"\\nColumnwise Mean: \", np.mean(Arr4,axis=0))\n",
    "print(\"Rowwise Mean: \" , np.mean(Arr4,axis=1))"
   ]
  },
  {
   "cell_type": "code",
   "execution_count": 4,
   "id": "7137c9a3",
   "metadata": {
    "execution": {
     "iopub.execute_input": "2023-11-29T14:41:50.359343Z",
     "iopub.status.busy": "2023-11-29T14:41:50.358948Z",
     "iopub.status.idle": "2023-11-29T14:41:50.366120Z",
     "shell.execute_reply": "2023-11-29T14:41:50.364660Z"
    },
    "papermill": {
     "duration": 0.011958,
     "end_time": "2023-11-29T14:41:50.368066",
     "exception": false,
     "start_time": "2023-11-29T14:41:50.356108",
     "status": "completed"
    },
    "tags": []
   },
   "outputs": [
    {
     "name": "stdout",
     "output_type": "stream",
     "text": [
      "[[100 200 300]\n",
      " [400 500 600]] \n",
      "\n",
      "Difference columnwise:-\n",
      " [[300 300 300]]\n",
      "\n",
      "Difference rowwise:-\n",
      " [[100 100]\n",
      " [100 100]]\n"
     ]
    }
   ],
   "source": [
    "'''4.4->to calculate the difference between neighboring elements, element\u0002wise of a given array'''\n",
    "\n",
    "# Calculating difference between neighbouring elements\n",
    "\n",
    "Array: [[100,200,300],[400,500,600]]\n",
    "print(Arr4 , \"\\n\\nDifference columnwise:-\\n\",np.diff(Arr4,axis=0))\n",
    "print(\"\\nDifference rowwise:-\\n\",np.diff(Arr4,axis=1))"
   ]
  }
 ],
 "metadata": {
  "kaggle": {
   "accelerator": "none",
   "dataSources": [],
   "dockerImageVersionId": 30558,
   "isGpuEnabled": false,
   "isInternetEnabled": false,
   "language": "python",
   "sourceType": "notebook"
  },
  "kernelspec": {
   "display_name": "Python 3",
   "language": "python",
   "name": "python3"
  },
  "language_info": {
   "codemirror_mode": {
    "name": "ipython",
    "version": 3
   },
   "file_extension": ".py",
   "mimetype": "text/x-python",
   "name": "python",
   "nbconvert_exporter": "python",
   "pygments_lexer": "ipython3",
   "version": "3.10.12"
  },
  "papermill": {
   "default_parameters": {},
   "duration": 3.968319,
   "end_time": "2023-11-29T14:41:50.789699",
   "environment_variables": {},
   "exception": null,
   "input_path": "__notebook__.ipynb",
   "output_path": "__notebook__.ipynb",
   "parameters": {},
   "start_time": "2023-11-29T14:41:46.821380",
   "version": "2.4.0"
  }
 },
 "nbformat": 4,
 "nbformat_minor": 5
}
