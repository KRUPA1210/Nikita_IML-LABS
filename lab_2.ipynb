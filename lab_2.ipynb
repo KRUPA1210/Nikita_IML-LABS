{
 "cells": [
  {
   "cell_type": "code",
   "execution_count": 1,
   "id": "fa6e145e",
   "metadata": {
    "execution": {
     "iopub.execute_input": "2023-11-29T14:38:52.007842Z",
     "iopub.status.busy": "2023-11-29T14:38:52.007150Z",
     "iopub.status.idle": "2023-11-29T14:38:52.022678Z",
     "shell.execute_reply": "2023-11-29T14:38:52.021468Z"
    },
    "papermill": {
     "duration": 0.022789,
     "end_time": "2023-11-29T14:38:52.025449",
     "exception": false,
     "start_time": "2023-11-29T14:38:52.002660",
     "status": "completed"
    },
    "tags": []
   },
   "outputs": [
    {
     "name": "stdout",
     "output_type": "stream",
     "text": [
      "[1 2 3 4 5]\n"
     ]
    }
   ],
   "source": [
    "#Name: Nikita Parmar\n",
    "#Enrollment No:216270307099\n",
    "\n",
    "'''2.1->to convert a list of numeric values into a one-dimensional NumPy \n",
    "array'''\n",
    "import numpy as np\n",
    "numeric_values = [1, 2, 3, 4, 5]\n",
    "\n",
    "# Convert the list to a one-dimensional NumPy array\n",
    "array = np.array(numeric_values)\n",
    "print(array)\n"
   ]
  },
  {
   "cell_type": "code",
   "execution_count": 2,
   "id": "0a861aee",
   "metadata": {
    "execution": {
     "iopub.execute_input": "2023-11-29T14:38:52.034376Z",
     "iopub.status.busy": "2023-11-29T14:38:52.033726Z",
     "iopub.status.idle": "2023-11-29T14:38:52.040756Z",
     "shell.execute_reply": "2023-11-29T14:38:52.039305Z"
    },
    "papermill": {
     "duration": 0.013222,
     "end_time": "2023-11-29T14:38:52.043216",
     "exception": false,
     "start_time": "2023-11-29T14:38:52.029994",
     "status": "completed"
    },
    "tags": []
   },
   "outputs": [
    {
     "name": "stdout",
     "output_type": "stream",
     "text": [
      "[[ 2  3  4]\n",
      " [ 5  6  7]\n",
      " [ 8  9 10]]\n"
     ]
    }
   ],
   "source": [
    "'''2.2-> to create a 3x3 matrix with values ranging from 2 to 10'''\n",
    "import numpy as np\n",
    "matrix = np.arange(2, 11).reshape(3, 3)\n",
    "print(matrix)"
   ]
  },
  {
   "cell_type": "code",
   "execution_count": 3,
   "id": "f4bb44f7",
   "metadata": {
    "execution": {
     "iopub.execute_input": "2023-11-29T14:38:52.050466Z",
     "iopub.status.busy": "2023-11-29T14:38:52.049392Z",
     "iopub.status.idle": "2023-11-29T14:38:52.056998Z",
     "shell.execute_reply": "2023-11-29T14:38:52.055711Z"
    },
    "papermill": {
     "duration": 0.013748,
     "end_time": "2023-11-29T14:38:52.059408",
     "exception": false,
     "start_time": "2023-11-29T14:38:52.045660",
     "status": "completed"
    },
    "tags": []
   },
   "outputs": [
    {
     "name": "stdout",
     "output_type": "stream",
     "text": [
      "Array: [1 2 3]\n",
      "Array after Appending values [1 2 3 4 5 6]\n"
     ]
    }
   ],
   "source": [
    "'''2.3->to append values at the end of an array\n",
    "'''\n",
    "import numpy as np\n",
    "arr = np.array([1, 2, 3])\n",
    "print(\"Array:\",arr)\n",
    "# Append values to the end of the array\n",
    "arr = np.append(arr,[4, 5, 6])\n",
    "print(\"Array after Appending values\",arr)\n"
   ]
  },
  {
   "cell_type": "code",
   "execution_count": 4,
   "id": "60ed8279",
   "metadata": {
    "execution": {
     "iopub.execute_input": "2023-11-29T14:38:52.066007Z",
     "iopub.status.busy": "2023-11-29T14:38:52.065623Z",
     "iopub.status.idle": "2023-11-29T14:38:52.072558Z",
     "shell.execute_reply": "2023-11-29T14:38:52.071218Z"
    },
    "papermill": {
     "duration": 0.013379,
     "end_time": "2023-11-29T14:38:52.075192",
     "exception": false,
     "start_time": "2023-11-29T14:38:52.061813",
     "status": "completed"
    },
    "tags": []
   },
   "outputs": [
    {
     "name": "stdout",
     "output_type": "stream",
     "text": [
      "original array:\n",
      " [[1 2]\n",
      " [3 4]\n",
      " [5 6]]\n",
      "the new array:\n",
      " [[1 2 3]\n",
      " [4 5 6]]\n"
     ]
    }
   ],
   "source": [
    "'''2.4->to create another shape from an array without changing its data(3*2 \n",
    "to 2*3)'''\n",
    "import numpy as np\n",
    "a = np.array([[1, 2], [3, 4], [5, 6]])\n",
    "# Create a 2x3 array from the same data\n",
    "b = np.reshape(a, (2, 3))\n",
    "print(\"original array:\\n\",a)\n",
    "print(\"the new array:\\n\",b)\n"
   ]
  }
 ],
 "metadata": {
  "kaggle": {
   "accelerator": "none",
   "dataSources": [],
   "dockerImageVersionId": 30558,
   "isGpuEnabled": false,
   "isInternetEnabled": false,
   "language": "python",
   "sourceType": "notebook"
  },
  "kernelspec": {
   "display_name": "Python 3",
   "language": "python",
   "name": "python3"
  },
  "language_info": {
   "codemirror_mode": {
    "name": "ipython",
    "version": 3
   },
   "file_extension": ".py",
   "mimetype": "text/x-python",
   "name": "python",
   "nbconvert_exporter": "python",
   "pygments_lexer": "ipython3",
   "version": "3.10.12"
  },
  "papermill": {
   "default_parameters": {},
   "duration": 4.29418,
   "end_time": "2023-11-29T14:38:52.497513",
   "environment_variables": {},
   "exception": null,
   "input_path": "__notebook__.ipynb",
   "output_path": "__notebook__.ipynb",
   "parameters": {},
   "start_time": "2023-11-29T14:38:48.203333",
   "version": "2.4.0"
  }
 },
 "nbformat": 4,
 "nbformat_minor": 5
}
